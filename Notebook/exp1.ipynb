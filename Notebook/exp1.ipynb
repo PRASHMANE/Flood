{
 "cells": [
  {
   "cell_type": "code",
   "execution_count": 1,
   "id": "5b5d2c77",
   "metadata": {},
   "outputs": [],
   "source": [
    "import pandas as pd\n",
    "import matplotlib.pyplot as plt\n",
    "import numpy as np"
   ]
  },
  {
   "cell_type": "code",
   "execution_count": 3,
   "id": "d8391c15",
   "metadata": {},
   "outputs": [
    {
     "data": {
      "text/html": [
       "<div>\n",
       "<style scoped>\n",
       "    .dataframe tbody tr th:only-of-type {\n",
       "        vertical-align: middle;\n",
       "    }\n",
       "\n",
       "    .dataframe tbody tr th {\n",
       "        vertical-align: top;\n",
       "    }\n",
       "\n",
       "    .dataframe thead th {\n",
       "        text-align: right;\n",
       "    }\n",
       "</style>\n",
       "<table border=\"1\" class=\"dataframe\">\n",
       "  <thead>\n",
       "    <tr style=\"text-align: right;\">\n",
       "      <th></th>\n",
       "      <th>date</th>\n",
       "      <th>rainfall_mm</th>\n",
       "      <th>soil_moisture_percent</th>\n",
       "      <th>humidity_percent</th>\n",
       "      <th>river_level_m</th>\n",
       "      <th>temperature_c</th>\n",
       "      <th>flood_risk</th>\n",
       "    </tr>\n",
       "  </thead>\n",
       "  <tbody>\n",
       "    <tr>\n",
       "      <th>0</th>\n",
       "      <td>2026-05-28</td>\n",
       "      <td>61.51</td>\n",
       "      <td>21.94</td>\n",
       "      <td>88.36</td>\n",
       "      <td>0.78</td>\n",
       "      <td>24.77</td>\n",
       "      <td>1</td>\n",
       "    </tr>\n",
       "    <tr>\n",
       "      <th>1</th>\n",
       "      <td>2021-10-26</td>\n",
       "      <td>62.53</td>\n",
       "      <td>35.56</td>\n",
       "      <td>89.93</td>\n",
       "      <td>7.41</td>\n",
       "      <td>24.67</td>\n",
       "      <td>1</td>\n",
       "    </tr>\n",
       "    <tr>\n",
       "      <th>2</th>\n",
       "      <td>2025-08-26</td>\n",
       "      <td>18.49</td>\n",
       "      <td>44.70</td>\n",
       "      <td>63.43</td>\n",
       "      <td>9.04</td>\n",
       "      <td>20.08</td>\n",
       "      <td>0</td>\n",
       "    </tr>\n",
       "    <tr>\n",
       "      <th>3</th>\n",
       "      <td>2021-03-22</td>\n",
       "      <td>33.11</td>\n",
       "      <td>15.28</td>\n",
       "      <td>74.05</td>\n",
       "      <td>7.69</td>\n",
       "      <td>28.93</td>\n",
       "      <td>0</td>\n",
       "    </tr>\n",
       "    <tr>\n",
       "      <th>4</th>\n",
       "      <td>2021-04-30</td>\n",
       "      <td>14.58</td>\n",
       "      <td>27.62</td>\n",
       "      <td>70.35</td>\n",
       "      <td>3.36</td>\n",
       "      <td>31.83</td>\n",
       "      <td>0</td>\n",
       "    </tr>\n",
       "    <tr>\n",
       "      <th>...</th>\n",
       "      <td>...</td>\n",
       "      <td>...</td>\n",
       "      <td>...</td>\n",
       "      <td>...</td>\n",
       "      <td>...</td>\n",
       "      <td>...</td>\n",
       "      <td>...</td>\n",
       "    </tr>\n",
       "    <tr>\n",
       "      <th>4737</th>\n",
       "      <td>2023-10-12</td>\n",
       "      <td>86.84</td>\n",
       "      <td>46.71</td>\n",
       "      <td>68.73</td>\n",
       "      <td>4.65</td>\n",
       "      <td>36.10</td>\n",
       "      <td>1</td>\n",
       "    </tr>\n",
       "    <tr>\n",
       "      <th>4738</th>\n",
       "      <td>2021-05-01</td>\n",
       "      <td>55.82</td>\n",
       "      <td>30.77</td>\n",
       "      <td>63.23</td>\n",
       "      <td>6.76</td>\n",
       "      <td>25.82</td>\n",
       "      <td>0</td>\n",
       "    </tr>\n",
       "    <tr>\n",
       "      <th>4739</th>\n",
       "      <td>2020-04-06</td>\n",
       "      <td>81.33</td>\n",
       "      <td>33.56</td>\n",
       "      <td>88.42</td>\n",
       "      <td>3.17</td>\n",
       "      <td>30.46</td>\n",
       "      <td>1</td>\n",
       "    </tr>\n",
       "    <tr>\n",
       "      <th>4740</th>\n",
       "      <td>2023-10-26</td>\n",
       "      <td>136.63</td>\n",
       "      <td>36.44</td>\n",
       "      <td>69.02</td>\n",
       "      <td>10.12</td>\n",
       "      <td>21.46</td>\n",
       "      <td>1</td>\n",
       "    </tr>\n",
       "    <tr>\n",
       "      <th>4741</th>\n",
       "      <td>2022-06-23</td>\n",
       "      <td>27.45</td>\n",
       "      <td>31.07</td>\n",
       "      <td>73.25</td>\n",
       "      <td>5.18</td>\n",
       "      <td>32.03</td>\n",
       "      <td>0</td>\n",
       "    </tr>\n",
       "  </tbody>\n",
       "</table>\n",
       "<p>4742 rows × 7 columns</p>\n",
       "</div>"
      ],
      "text/plain": [
       "            date  rainfall_mm  soil_moisture_percent  humidity_percent  \\\n",
       "0     2026-05-28        61.51                  21.94             88.36   \n",
       "1     2021-10-26        62.53                  35.56             89.93   \n",
       "2     2025-08-26        18.49                  44.70             63.43   \n",
       "3     2021-03-22        33.11                  15.28             74.05   \n",
       "4     2021-04-30        14.58                  27.62             70.35   \n",
       "...          ...          ...                    ...               ...   \n",
       "4737  2023-10-12        86.84                  46.71             68.73   \n",
       "4738  2021-05-01        55.82                  30.77             63.23   \n",
       "4739  2020-04-06        81.33                  33.56             88.42   \n",
       "4740  2023-10-26       136.63                  36.44             69.02   \n",
       "4741  2022-06-23        27.45                  31.07             73.25   \n",
       "\n",
       "      river_level_m  temperature_c  flood_risk  \n",
       "0              0.78          24.77           1  \n",
       "1              7.41          24.67           1  \n",
       "2              9.04          20.08           0  \n",
       "3              7.69          28.93           0  \n",
       "4              3.36          31.83           0  \n",
       "...             ...            ...         ...  \n",
       "4737           4.65          36.10           1  \n",
       "4738           6.76          25.82           0  \n",
       "4739           3.17          30.46           1  \n",
       "4740          10.12          21.46           1  \n",
       "4741           5.18          32.03           0  \n",
       "\n",
       "[4742 rows x 7 columns]"
      ]
     },
     "execution_count": 3,
     "metadata": {},
     "output_type": "execute_result"
    }
   ],
   "source": [
    "df=pd.read_csv('flood.csv')\n",
    "df"
   ]
  },
  {
   "cell_type": "code",
   "execution_count": 4,
   "id": "56b042fd",
   "metadata": {},
   "outputs": [
    {
     "data": {
      "text/plain": [
       "date                     0\n",
       "rainfall_mm              0\n",
       "soil_moisture_percent    0\n",
       "humidity_percent         0\n",
       "river_level_m            0\n",
       "temperature_c            0\n",
       "flood_risk               0\n",
       "dtype: int64"
      ]
     },
     "execution_count": 4,
     "metadata": {},
     "output_type": "execute_result"
    }
   ],
   "source": [
    "# fill the null values\n",
    "df.isnull().sum()"
   ]
  },
  {
   "cell_type": "code",
   "execution_count": 14,
   "id": "d6169abd",
   "metadata": {},
   "outputs": [],
   "source": [
    "from sklearn.model_selection import train_test_split"
   ]
  },
  {
   "cell_type": "code",
   "execution_count": 9,
   "id": "15b967b4",
   "metadata": {},
   "outputs": [],
   "source": [
    "X=df[['rainfall_mm','humidity_percent',\"river_level_m\",\"temperature_c\"]]\n",
    "y=df['flood_risk']"
   ]
  },
  {
   "cell_type": "code",
   "execution_count": 10,
   "id": "27f1549f",
   "metadata": {},
   "outputs": [
    {
     "data": {
      "text/plain": [
       "(4742,)"
      ]
     },
     "execution_count": 10,
     "metadata": {},
     "output_type": "execute_result"
    }
   ],
   "source": [
    "y.shape"
   ]
  },
  {
   "cell_type": "code",
   "execution_count": 11,
   "id": "3fd87e76",
   "metadata": {},
   "outputs": [
    {
     "data": {
      "text/html": [
       "<div>\n",
       "<style scoped>\n",
       "    .dataframe tbody tr th:only-of-type {\n",
       "        vertical-align: middle;\n",
       "    }\n",
       "\n",
       "    .dataframe tbody tr th {\n",
       "        vertical-align: top;\n",
       "    }\n",
       "\n",
       "    .dataframe thead th {\n",
       "        text-align: right;\n",
       "    }\n",
       "</style>\n",
       "<table border=\"1\" class=\"dataframe\">\n",
       "  <thead>\n",
       "    <tr style=\"text-align: right;\">\n",
       "      <th></th>\n",
       "      <th>rainfall_mm</th>\n",
       "      <th>humidity_percent</th>\n",
       "      <th>river_level_m</th>\n",
       "      <th>temperature_c</th>\n",
       "    </tr>\n",
       "  </thead>\n",
       "  <tbody>\n",
       "    <tr>\n",
       "      <th>0</th>\n",
       "      <td>61.51</td>\n",
       "      <td>88.36</td>\n",
       "      <td>0.78</td>\n",
       "      <td>24.77</td>\n",
       "    </tr>\n",
       "    <tr>\n",
       "      <th>1</th>\n",
       "      <td>62.53</td>\n",
       "      <td>89.93</td>\n",
       "      <td>7.41</td>\n",
       "      <td>24.67</td>\n",
       "    </tr>\n",
       "    <tr>\n",
       "      <th>2</th>\n",
       "      <td>18.49</td>\n",
       "      <td>63.43</td>\n",
       "      <td>9.04</td>\n",
       "      <td>20.08</td>\n",
       "    </tr>\n",
       "    <tr>\n",
       "      <th>3</th>\n",
       "      <td>33.11</td>\n",
       "      <td>74.05</td>\n",
       "      <td>7.69</td>\n",
       "      <td>28.93</td>\n",
       "    </tr>\n",
       "    <tr>\n",
       "      <th>4</th>\n",
       "      <td>14.58</td>\n",
       "      <td>70.35</td>\n",
       "      <td>3.36</td>\n",
       "      <td>31.83</td>\n",
       "    </tr>\n",
       "    <tr>\n",
       "      <th>...</th>\n",
       "      <td>...</td>\n",
       "      <td>...</td>\n",
       "      <td>...</td>\n",
       "      <td>...</td>\n",
       "    </tr>\n",
       "    <tr>\n",
       "      <th>4737</th>\n",
       "      <td>86.84</td>\n",
       "      <td>68.73</td>\n",
       "      <td>4.65</td>\n",
       "      <td>36.10</td>\n",
       "    </tr>\n",
       "    <tr>\n",
       "      <th>4738</th>\n",
       "      <td>55.82</td>\n",
       "      <td>63.23</td>\n",
       "      <td>6.76</td>\n",
       "      <td>25.82</td>\n",
       "    </tr>\n",
       "    <tr>\n",
       "      <th>4739</th>\n",
       "      <td>81.33</td>\n",
       "      <td>88.42</td>\n",
       "      <td>3.17</td>\n",
       "      <td>30.46</td>\n",
       "    </tr>\n",
       "    <tr>\n",
       "      <th>4740</th>\n",
       "      <td>136.63</td>\n",
       "      <td>69.02</td>\n",
       "      <td>10.12</td>\n",
       "      <td>21.46</td>\n",
       "    </tr>\n",
       "    <tr>\n",
       "      <th>4741</th>\n",
       "      <td>27.45</td>\n",
       "      <td>73.25</td>\n",
       "      <td>5.18</td>\n",
       "      <td>32.03</td>\n",
       "    </tr>\n",
       "  </tbody>\n",
       "</table>\n",
       "<p>4742 rows × 4 columns</p>\n",
       "</div>"
      ],
      "text/plain": [
       "      rainfall_mm  humidity_percent  river_level_m  temperature_c\n",
       "0           61.51             88.36           0.78          24.77\n",
       "1           62.53             89.93           7.41          24.67\n",
       "2           18.49             63.43           9.04          20.08\n",
       "3           33.11             74.05           7.69          28.93\n",
       "4           14.58             70.35           3.36          31.83\n",
       "...           ...               ...            ...            ...\n",
       "4737        86.84             68.73           4.65          36.10\n",
       "4738        55.82             63.23           6.76          25.82\n",
       "4739        81.33             88.42           3.17          30.46\n",
       "4740       136.63             69.02          10.12          21.46\n",
       "4741        27.45             73.25           5.18          32.03\n",
       "\n",
       "[4742 rows x 4 columns]"
      ]
     },
     "execution_count": 11,
     "metadata": {},
     "output_type": "execute_result"
    }
   ],
   "source": [
    "X"
   ]
  },
  {
   "cell_type": "code",
   "execution_count": 12,
   "id": "c5181821",
   "metadata": {},
   "outputs": [
    {
     "data": {
      "text/plain": [
       "0       1\n",
       "1       1\n",
       "2       0\n",
       "3       0\n",
       "4       0\n",
       "       ..\n",
       "4737    1\n",
       "4738    0\n",
       "4739    1\n",
       "4740    1\n",
       "4741    0\n",
       "Name: flood_risk, Length: 4742, dtype: int64"
      ]
     },
     "execution_count": 12,
     "metadata": {},
     "output_type": "execute_result"
    }
   ],
   "source": [
    "y"
   ]
  },
  {
   "cell_type": "code",
   "execution_count": 15,
   "id": "2b46b410",
   "metadata": {},
   "outputs": [],
   "source": [
    "x_train,x_test,y_train,y_test=train_test_split(X,y,random_state=24)"
   ]
  },
  {
   "cell_type": "code",
   "execution_count": 16,
   "id": "3222966c",
   "metadata": {},
   "outputs": [
    {
     "data": {
      "text/plain": [
       "(3556, 4)"
      ]
     },
     "execution_count": 16,
     "metadata": {},
     "output_type": "execute_result"
    }
   ],
   "source": [
    "x_train.shape"
   ]
  },
  {
   "cell_type": "code",
   "execution_count": 17,
   "id": "c11e4ea4",
   "metadata": {},
   "outputs": [
    {
     "data": {
      "text/plain": [
       "(1186, 4)"
      ]
     },
     "execution_count": 17,
     "metadata": {},
     "output_type": "execute_result"
    }
   ],
   "source": [
    "x_test.shape"
   ]
  },
  {
   "cell_type": "code",
   "execution_count": 18,
   "id": "f179debd",
   "metadata": {},
   "outputs": [
    {
     "data": {
      "text/plain": [
       "(3556,)"
      ]
     },
     "execution_count": 18,
     "metadata": {},
     "output_type": "execute_result"
    }
   ],
   "source": [
    "y_train.shape"
   ]
  },
  {
   "cell_type": "code",
   "execution_count": 19,
   "id": "6d03f749",
   "metadata": {},
   "outputs": [
    {
     "data": {
      "text/plain": [
       "(1186,)"
      ]
     },
     "execution_count": 19,
     "metadata": {},
     "output_type": "execute_result"
    }
   ],
   "source": [
    "y_test.shape"
   ]
  },
  {
   "cell_type": "code",
   "execution_count": 21,
   "id": "3904df75",
   "metadata": {},
   "outputs": [],
   "source": [
    "from sklearn.preprocessing import StandardScaler"
   ]
  },
  {
   "cell_type": "code",
   "execution_count": 23,
   "id": "ee0d9a42",
   "metadata": {},
   "outputs": [],
   "source": [
    "sc=StandardScaler()\n",
    "x_train=sc.fit_transform(x_train)\n",
    "x_test=sc.transform(x_test)"
   ]
  },
  {
   "cell_type": "code",
   "execution_count": 41,
   "id": "ce1db653",
   "metadata": {},
   "outputs": [
    {
     "data": {
      "text/plain": [
       "['scaler.pkl']"
      ]
     },
     "execution_count": 41,
     "metadata": {},
     "output_type": "execute_result"
    }
   ],
   "source": [
    "joblib.dump(sc, \"scaler.pkl\")"
   ]
  },
  {
   "cell_type": "code",
   "execution_count": 26,
   "id": "8f6c4c57",
   "metadata": {},
   "outputs": [
    {
     "name": "stdout",
     "output_type": "stream",
     "text": [
      "Accuracy: 0.9949409780775716\n",
      "              precision    recall  f1-score   support\n",
      "\n",
      "           0       1.00      0.99      0.99       591\n",
      "           1       0.99      1.00      0.99       595\n",
      "\n",
      "    accuracy                           0.99      1186\n",
      "   macro avg       1.00      0.99      0.99      1186\n",
      "weighted avg       0.99      0.99      0.99      1186\n",
      "\n"
     ]
    }
   ],
   "source": [
    "# basic model\n",
    "\n",
    "from xgboost import XGBClassifier\n",
    "from sklearn.metrics import classification_report, accuracy_score\n",
    "\n",
    "xgb = XGBClassifier(random_state=42)\n",
    "xgb.fit(x_train, y_train)\n",
    "\n",
    "y_pred = xgb.predict(x_test)\n",
    "print(\"Accuracy:\", accuracy_score(y_test, y_pred))\n",
    "print(classification_report(y_test, y_pred))\n"
   ]
  },
  {
   "cell_type": "code",
   "execution_count": 27,
   "id": "cb4592a3",
   "metadata": {},
   "outputs": [
    {
     "name": "stdout",
     "output_type": "stream",
     "text": [
      "Fitting 3 folds for each of 324 candidates, totalling 972 fits\n",
      "✅ Best Parameters: {'colsample_bytree': 0.8, 'gamma': 0.1, 'learning_rate': 0.1, 'max_depth': 7, 'n_estimators': 200, 'subsample': 0.8}\n",
      "🏆 Best Accuracy: 0.9907201457226004\n"
     ]
    }
   ],
   "source": [
    "from sklearn.model_selection import GridSearchCV\n",
    "\n",
    "param_grid = {\n",
    "    'n_estimators': [100, 200, 300],\n",
    "    'max_depth': [3, 5, 7],\n",
    "    'learning_rate': [0.01, 0.1, 0.2],\n",
    "    'subsample': [0.8, 1.0],\n",
    "    'colsample_bytree': [0.8, 1.0],\n",
    "    'gamma': [0, 0.1, 0.2]\n",
    "}\n",
    "\n",
    "xgb_clf = XGBClassifier(random_state=42)\n",
    "\n",
    "grid_search = GridSearchCV(\n",
    "    estimator=xgb_clf,\n",
    "    param_grid=param_grid,\n",
    "    cv=3,\n",
    "    scoring='accuracy',\n",
    "    verbose=2,\n",
    "    n_jobs=-1\n",
    ")\n",
    "\n",
    "grid_search.fit(x_train, y_train)\n",
    "\n",
    "print(\"✅ Best Parameters:\", grid_search.best_params_)\n",
    "print(\"🏆 Best Accuracy:\", grid_search.best_score_)\n"
   ]
  },
  {
   "cell_type": "code",
   "execution_count": 29,
   "id": "72fdeafa",
   "metadata": {},
   "outputs": [
    {
     "name": "stdout",
     "output_type": "stream",
     "text": [
      "Final Accuracy: 0.9957841483979764\n",
      "              precision    recall  f1-score   support\n",
      "\n",
      "           0       1.00      0.99      1.00       591\n",
      "           1       0.99      1.00      1.00       595\n",
      "\n",
      "    accuracy                           1.00      1186\n",
      "   macro avg       1.00      1.00      1.00      1186\n",
      "weighted avg       1.00      1.00      1.00      1186\n",
      "\n"
     ]
    }
   ],
   "source": [
    "best_params = grid_search.best_params_\n",
    "\n",
    "xgb_best = XGBClassifier(**best_params, random_state=42)\n",
    "xgb_best.fit(x_train, y_train)\n",
    "\n",
    "y_pred_best = xgb_best.predict(x_test)\n",
    "print(\"Final Accuracy:\", accuracy_score(y_test, y_pred_best))\n",
    "print(classification_report(y_test, y_pred_best))\n"
   ]
  },
  {
   "cell_type": "code",
   "execution_count": null,
   "id": "74fa7a4c",
   "metadata": {},
   "outputs": [],
   "source": [
    "import joblib\n",
    "\n",
    "# Save the model\n",
    "joblib.dump(xgb_best, \"xgb_flood_model.pkl\")\n",
    "\n",
    "# Later, load the model\n",
    "loaded_model = joblib.load(\"xgb_flood_model.pkl\")\n",
    "\n",
    "# Make predictions\n",
    "y_pred = loaded_model.predict(X_test_scaled)\n"
   ]
  },
  {
   "cell_type": "code",
   "execution_count": 30,
   "id": "b24bd18a",
   "metadata": {},
   "outputs": [
    {
     "data": {
      "text/plain": [
       "['xgb_flood_model.pkl']"
      ]
     },
     "execution_count": 30,
     "metadata": {},
     "output_type": "execute_result"
    }
   ],
   "source": [
    "import joblib\n",
    "\n",
    "# Save the model\n",
    "joblib.dump(xgb_best, \"xgb_flood_model.pkl\")"
   ]
  },
  {
   "cell_type": "code",
   "execution_count": 31,
   "id": "6a3be42d",
   "metadata": {},
   "outputs": [],
   "source": [
    "loaded_model = joblib.load(\"xgb_flood_model.pkl\")"
   ]
  },
  {
   "cell_type": "code",
   "execution_count": 38,
   "id": "3544e25d",
   "metadata": {},
   "outputs": [
    {
     "name": "stderr",
     "output_type": "stream",
     "text": [
      "c:\\Users\\User\\AppData\\Local\\Programs\\Python\\Python312\\Lib\\site-packages\\sklearn\\utils\\validation.py:2749: UserWarning: X does not have valid feature names, but StandardScaler was fitted with feature names\n",
      "  warnings.warn(\n"
     ]
    }
   ],
   "source": [
    "pre=[[61.0,88.4,7.6,24]]\n",
    "pre=sc.transform(pre)"
   ]
  },
  {
   "cell_type": "code",
   "execution_count": 39,
   "id": "ae12ff2d",
   "metadata": {},
   "outputs": [
    {
     "data": {
      "text/plain": [
       "array([[ 0.5363092 ,  0.75928802,  0.87140975, -0.65107785]])"
      ]
     },
     "execution_count": 39,
     "metadata": {},
     "output_type": "execute_result"
    }
   ],
   "source": [
    "pre"
   ]
  },
  {
   "cell_type": "code",
   "execution_count": 40,
   "id": "cd169809",
   "metadata": {},
   "outputs": [
    {
     "name": "stdout",
     "output_type": "stream",
     "text": [
      "1\n"
     ]
    }
   ],
   "source": [
    "print(loaded_model.predict(pre)[0])"
   ]
  },
  {
   "cell_type": "code",
   "execution_count": null,
   "id": "a3ee5d5c",
   "metadata": {},
   "outputs": [],
   "source": []
  }
 ],
 "metadata": {
  "kernelspec": {
   "display_name": "Python 3",
   "language": "python",
   "name": "python3"
  },
  "language_info": {
   "codemirror_mode": {
    "name": "ipython",
    "version": 3
   },
   "file_extension": ".py",
   "mimetype": "text/x-python",
   "name": "python",
   "nbconvert_exporter": "python",
   "pygments_lexer": "ipython3",
   "version": "3.12.4"
  }
 },
 "nbformat": 4,
 "nbformat_minor": 5
}
